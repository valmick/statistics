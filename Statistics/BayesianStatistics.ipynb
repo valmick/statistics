{
 "cells": [
  {
   "cell_type": "markdown",
   "metadata": {},
   "source": [
    "# Statistics\n",
    "\n",
    "\n",
    "Notes from multiple resources for statistics\n",
    "\n",
    "\n",
    "### Jargon\n",
    "\n",
    "**Trials**:\n",
    "\n",
    "**Process**:\n",
    "\n",
    "**Sample Space**:\n",
    "\n",
    "**Events**:\n",
    "\n",
    "**Random Variables**:\n",
    "A Random Variable takes a subset of values from the sample space based on an event\n",
    "\n",
    "> Discrete Random Variable : \n",
    "\n",
    "> Probability Mass Function :\n",
    "\n",
    "> Continuous Random Variable :\n",
    "\n",
    "> Probability Density Function\n",
    "\n",
    "**Population**:\n",
    "\n",
    "**Sample**:\n"
   ]
  },
  {
   "cell_type": "markdown",
   "metadata": {},
   "source": [
    "## Introduction to Significance testing\n",
    "Main material that I found reallly useful was from [Khan Academy Statistics course](https://www.khanacademy.org/math/statistics-probability/significance-tests-one-sample?ref=resume_learning#idea-of-significance-tests)\n",
    "\n",
    "\n",
    "### Why do we need Hypothesis testing\n",
    "\n",
    "- There is a general belief of the population about some parameter\n",
    "  e.g. Average height\n",
    "- Then we take a sample from it and measure that some parameter, we suspect that the parameter is varying from population parameter\n",
    "  e.g. We believe that the average height in your school or office or neighborhood is higher or lower than that of the population\n",
    "- So we do a hypothesis testing\n",
    "- We frame a Null Hypothesis usually denoted as $H_0$, the null hypothesis is the belief of the 'parameter value' of the population\n",
    "- And then the Alternate Hypothesis usually denoted as $H_a$, the alternate hypothesis is based on your local sample observation\n",
    "- So the next step is basically is to see the observation in our local sample is because of 'random sampling of the population', or the observation is such an outlier that it cannot explain by the 'random sampling of the population'. In the later case we go ahead reject the $H_0$ and say we believe in $H_a$\n",
    "- Now how do we say that the P(parameter values due to random sampling| Give $H_0$) is not an outlier.\n",
    "- By coming up with an idea of \"Signicance level\" $\\alpha$\n",
    "- How do we interpret $\\alpha$?\n",
    "> If -> P(parameter values due to random sampling| Give $H_0$) < $\\alpha$ \n",
    "\n",
    "It means that the probability of the occurrence of the value is very low, and cannot be explained by random sampling of the population. Hence we reject the $H_0$.\n",
    "\n",
    "> If -> P(parameter values due to random sampling| Give $H_0$) >= $\\alpha$ \n",
    "\n",
    "It means the probability of the occurrence of the value can be examplained by random sampling of populaion and hence we cannot reject the $H_0$\n",
    "\n",
    "- So the question now is how do we evaluate P(parameter values due to random sampling| Give $H_0$, i.e. the population parameter value)\n",
    "- One of the ways is if you know the $\\overline x$, average of the sample, $s$, standard deviation of the sample then we can use equation of Normal distribution to simulate the sample, and then randomly sample from it multiple times and put together a probability of a value - best done with an example below.\n",
    "\n",
    "### How to test the signficance test?\n",
    "How do we find out if the probability of the sample observation cannot be attributed to \n",
    "\n"
   ]
  },
  {
   "cell_type": "markdown",
   "metadata": {},
   "source": [
    "## Hypothesis testing: Example 1\n",
    "\n",
    "Evie read an article that said 6%, percent of teenagers were vegetarians, but she thinks it's higher for students at her large school. To test her theory, Evie took a random sample of 25 students at her school, and 20%, percent of them were vegetarians.\n",
    "To see how likely a sample like this was to happen by random chance alone, Evie performed a simulation. She simulated 40 samples of n=25, equals, 25 students from a large population where 6%, percent of the students were vegetarian. She recorded the proportion of vegetarians in each sample. Here are the sample proportions from her 40 samples:\n",
    "\n",
    "\n",
    "| % of sample | Value |\n",
    "|--|--|\n",
    "| 0| 8|\n",
    "| 5| 22|\n",
    "| 10| 5|\n",
    "| 15| 5|\n",
    "| 20| 2|\n",
    "| 25| 1 |\n",
    "\n",
    "### Solution\n",
    "\n",
    "$H_0$ = Population vegetarians - 6%\n",
    "\n",
    "$H_a$ = Sample vegetarians - 20%\n",
    "\n",
    "$\\alpha$ = 0.05 or 5%\n",
    "\n",
    "The simulation is a mechanism to find P(20% of sample are veg| $H_0$)\n",
    "\n",
    "The P(20% or greater of sample are veg| $H_0$) is 3/40 = 0.075 or 7.5%\n",
    "\n",
    "Which means we cannot reject $H_0$\n",
    "\n"
   ]
  },
  {
   "cell_type": "markdown",
   "metadata": {},
   "source": [
    "## Hypothesis testing: Example 2\n",
    "From Khan Academy\n",
    "![Example](./Example2.jpg)"
   ]
  },
  {
   "cell_type": "markdown",
   "metadata": {},
   "source": [
    "### Hypothesis testing: Example 3 - Drug testing\n",
    "\n",
    "This can be used as an example to continue to work with Type-1,2 errors.\n"
   ]
  },
  {
   "cell_type": "markdown",
   "metadata": {},
   "source": [
    "## Type 1 , Type 2 errors"
   ]
  },
  {
   "cell_type": "markdown",
   "metadata": {},
   "source": [
    "## Sensitivity, Specificity"
   ]
  },
  {
   "cell_type": "markdown",
   "metadata": {},
   "source": [
    "## Idea of Significance testing\n",
    "\n",
    "The sample one picks up to test the "
   ]
  },
  {
   "cell_type": "markdown",
   "metadata": {},
   "source": [
    "## AUC ROC"
   ]
  },
  {
   "cell_type": "markdown",
   "metadata": {},
   "source": [
    "## Power of Significance test"
   ]
  },
  {
   "cell_type": "markdown",
   "metadata": {},
   "source": [
    "## Z-test\n"
   ]
  },
  {
   "cell_type": "markdown",
   "metadata": {},
   "source": [
    "## Hypothesis testing - Frequentist vs Bayesian"
   ]
  },
  {
   "cell_type": "markdown",
   "metadata": {},
   "source": [
    "# Distributions"
   ]
  },
  {
   "cell_type": "markdown",
   "metadata": {
    "ExecuteTime": {
     "end_time": "2019-11-05T08:10:14.973016Z",
     "start_time": "2019-11-05T08:10:14.669Z"
    }
   },
   "source": [
    "# Bayesian Statistics"
   ]
  },
  {
   "cell_type": "markdown",
   "metadata": {
    "ExecuteTime": {
     "end_time": "2019-11-05T08:10:16.947277Z",
     "start_time": "2019-11-05T08:10:16.829Z"
    }
   },
   "source": [
    "## References\n",
    "\n",
    "1. [Bayesian Statistics](https://www.coursera.org/learn/bayesian/resources/gjxj0)"
   ]
  },
  {
   "cell_type": "markdown",
   "metadata": {},
   "source": [
    "**NOTE**\n",
    "$$Posterior=\\frac{Likelihood \\times Prior}{Evidence}$$\n",
    "\n",
    "Posterior = P(A|B)\n",
    "Likelihood = P(B|A)\n",
    "Prior = P(A)\n",
    "Evidence = P(B)\n",
    "\n",
    "\n",
    "Applying to Data and Hypothesis we can write\n",
    "\n",
    "P(Hypothesis|Data) = P(Data|Hypothesis) P(Data) / P(Hypothesis)\n",
    "\n",
    "P(Hypothesis) = P(Data|Hypothesis)P(Hypothesis) + P(Data|complement Hypothesis)P(complement hypothesis)\n",
    "\n",
    "Hypothesis - test - e.g. Drug test"
   ]
  },
  {
   "cell_type": "markdown",
   "metadata": {},
   "source": [
    "## Example 1\n",
    "\n",
    "Elisa test: \n",
    "In the 80’s, the US military used the ELISA (enzyme-linked immunosorbent assay) and the Western blot test to test whether recruits had HIV (human immunodeficiency virus). The sensitivity\n",
    "(true positive) of the ELISA test is about 93%, and the specificity (true negative) of the ELISA\n",
    "test is around 99%. It was estimated that 1.48/1000 adult Americans were HIV positive. Given\n",
    "that a recruit had received 2 ELISA tests and got 2 positive results, what would be the probability\n",
    "that this recruit had HIV?\n"
   ]
  },
  {
   "cell_type": "markdown",
   "metadata": {
    "ExecuteTime": {
     "end_time": "2019-11-05T08:20:51.908465Z",
     "start_time": "2019-11-05T08:20:51.876Z"
    }
   },
   "source": [
    "**Solution**"
   ]
  },
  {
   "cell_type": "markdown",
   "metadata": {},
   "source": [
    "```\n",
    "Posterior <- What we have to find <- P(HIV|1st test +ve & 2nd test +ve)\n",
    "Prior <- P(HIV) = 0.000148\n",
    "Likelihood <- P(1st test +ve| HIV) = 0.93 i.e. Sensitivity or True positive\n",
    "\n",
    "```\n"
   ]
  },
  {
   "cell_type": "markdown",
   "metadata": {},
   "source": [
    "There are two ways to solve this problem\n",
    "1. Bayes Update\n",
    "2. Binomial Process\n",
    "The two tests are independent, and it is a Binomial process and it corresponds to Bernoulli trials\n",
    "\n"
   ]
  },
  {
   "cell_type": "markdown",
   "metadata": {},
   "source": [
    "# Appendix\n"
   ]
  },
  {
   "cell_type": "markdown",
   "metadata": {},
   "source": [
    "## Bias and Variance difference"
   ]
  },
  {
   "cell_type": "markdown",
   "metadata": {
    "ExecuteTime": {
     "end_time": "2019-11-06T09:30:13.409319Z",
     "start_time": "2019-11-06T09:30:13.398375Z"
    }
   },
   "source": [
    "## Standard Deviation and ($n-1$)\n",
    "The theory and concept of Degrees of freedom (Check Khan videos).\n",
    "In the videos it showcases that the standard deviation is replicated more accurately when we divide by (n-1) instead of n. Understand Degrees of freedom @todo"
   ]
  },
  {
   "cell_type": "markdown",
   "metadata": {
    "ExecuteTime": {
     "end_time": "2019-11-06T09:37:45.554227Z",
     "start_time": "2019-11-06T09:37:45.538202Z"
    }
   },
   "source": [
    "## 3 $\\sigma$ rule\n",
    "![Normal Distribution](\"https://en.wikipedia.org/wiki/File:Empirical_Rule.PNG\")\n",
    "68–95–99.7 rule"
   ]
  },
  {
   "cell_type": "markdown",
   "metadata": {},
   "source": [
    "# Setup"
   ]
  },
  {
   "cell_type": "code",
   "execution_count": 10,
   "metadata": {
    "ExecuteTime": {
     "end_time": "2019-11-06T09:43:10.611767Z",
     "start_time": "2019-11-06T09:43:10.605753Z"
    }
   },
   "outputs": [
    {
     "data": {
      "text/html": [
       "<img src=\"https://en.wikipedia.org/wiki/File:Empirical_Rule.PNG\"/>"
      ],
      "text/plain": [
       "<IPython.core.display.Image object>"
      ]
     },
     "metadata": {},
     "output_type": "display_data"
    }
   ],
   "source": [
    "from IPython.display import Image, display\n",
    "display(Image(url='https://en.wikipedia.org/wiki/File:Empirical_Rule.PNG'))"
   ]
  },
  {
   "cell_type": "markdown",
   "metadata": {},
   "source": [
    "# Things to find out\n",
    "\n",
    "- As we increase samples - the normal distribution becomes thinner"
   ]
  },
  {
   "cell_type": "code",
   "execution_count": null,
   "metadata": {},
   "outputs": [],
   "source": []
  }
 ],
 "metadata": {
  "kernelspec": {
   "display_name": "Python 3",
   "language": "python",
   "name": "python3"
  },
  "language_info": {
   "codemirror_mode": {
    "name": "ipython",
    "version": 3
   },
   "file_extension": ".py",
   "mimetype": "text/x-python",
   "name": "python",
   "nbconvert_exporter": "python",
   "pygments_lexer": "ipython3",
   "version": "3.6.5"
  },
  "latex_envs": {
   "LaTeX_envs_menu_present": true,
   "autoclose": false,
   "autocomplete": true,
   "bibliofile": "biblio.bib",
   "cite_by": "apalike",
   "current_citInitial": 1,
   "eqLabelWithNumbers": true,
   "eqNumInitial": 1,
   "hotkeys": {
    "equation": "Ctrl-E",
    "itemize": "Ctrl-I"
   },
   "labels_anchors": false,
   "latex_user_defs": false,
   "report_style_numbering": false,
   "user_envs_cfg": false
  },
  "toc": {
   "base_numbering": 1,
   "nav_menu": {},
   "number_sections": true,
   "sideBar": true,
   "skip_h1_title": false,
   "title_cell": "Table of Contents",
   "title_sidebar": "Contents",
   "toc_cell": false,
   "toc_position": {
    "height": "calc(100% - 180px)",
    "left": "10px",
    "top": "150px",
    "width": "281px"
   },
   "toc_section_display": true,
   "toc_window_display": true
  }
 },
 "nbformat": 4,
 "nbformat_minor": 2
}
